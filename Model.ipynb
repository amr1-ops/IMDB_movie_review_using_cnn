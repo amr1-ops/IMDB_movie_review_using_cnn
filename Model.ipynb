{
  "cells": [
    {
      "cell_type": "code",
      "execution_count": 1,
      "metadata": {
        "id": "ZztJ52LuyJ2E"
      },
      "outputs": [],
      "source": [
        "from keras.datasets import imdb\n",
        "from keras.utils import pad_sequences\n",
        "import numpy as np\n",
        "from keras.models import Sequential\n",
        "from keras.layers import Embedding, Dropout, Conv1D, GlobalMaxPooling1D, Dense\n",
        "from keras.wrappers.scikit_learn import KerasClassifier\n",
        "from sklearn.model_selection import ParameterGrid\n",
        "from keras.callbacks import EarlyStopping"
      ]
    },
    {
      "cell_type": "code",
      "execution_count": 2,
      "metadata": {
        "colab": {
          "base_uri": "https://localhost:8080/"
        },
        "id": "HBIClyNbyfoM",
        "outputId": "7523dcdd-45ba-4599-bf2a-c0cc0e3c91e6"
      },
      "outputs": [
        {
          "name": "stdout",
          "output_type": "stream",
          "text": [
            "Downloading data from https://storage.googleapis.com/tensorflow/tf-keras-datasets/imdb.npz\n",
            "17464789/17464789 [==============================] - 0s 0us/step\n"
          ]
        }
      ],
      "source": [
        "(x_train, y_train), (x_test, y_test) = imdb.load_data()"
      ]
    },
    {
      "cell_type": "code",
      "execution_count": 3,
      "metadata": {
        "colab": {
          "base_uri": "https://localhost:8080/"
        },
        "id": "PNRKooYFygn8",
        "outputId": "7214abe5-8e3a-41eb-ba8e-5cff0ce72bf4"
      },
      "outputs": [
        {
          "name": "stdout",
          "output_type": "stream",
          "text": [
            "[1, 14, 22, 16, 43, 530, 973, 1622, 1385, 65, 458, 4468, 66, 3941, 4, 173, 36, 256, 5, 25, 100, 43, 838, 112, 50, 670, 22665, 9, 35, 480, 284, 5, 150, 4, 172, 112, 167, 21631, 336, 385, 39, 4, 172, 4536, 1111, 17, 546, 38, 13, 447, 4, 192, 50, 16, 6, 147, 2025, 19, 14, 22, 4, 1920, 4613, 469, 4, 22, 71, 87, 12, 16, 43, 530, 38, 76, 15, 13, 1247, 4, 22, 17, 515, 17, 12, 16, 626, 18, 19193, 5, 62, 386, 12, 8, 316, 8, 106, 5, 4, 2223, 5244, 16, 480, 66, 3785, 33, 4, 130, 12, 16, 38, 619, 5, 25, 124, 51, 36, 135, 48, 25, 1415, 33, 6, 22, 12, 215, 28, 77, 52, 5, 14, 407, 16, 82, 10311, 8, 4, 107, 117, 5952, 15, 256, 4, 31050, 7, 3766, 5, 723, 36, 71, 43, 530, 476, 26, 400, 317, 46, 7, 4, 12118, 1029, 13, 104, 88, 4, 381, 15, 297, 98, 32, 2071, 56, 26, 141, 6, 194, 7486, 18, 4, 226, 22, 21, 134, 476, 26, 480, 5, 144, 30, 5535, 18, 51, 36, 28, 224, 92, 25, 104, 4, 226, 65, 16, 38, 1334, 88, 12, 16, 283, 5, 16, 4472, 113, 103, 32, 15, 16, 5345, 19, 178, 32]\n"
          ]
        }
      ],
      "source": [
        "print(x_train[0])"
      ]
    },
    {
      "cell_type": "code",
      "execution_count": 4,
      "metadata": {
        "colab": {
          "base_uri": "https://localhost:8080/",
          "height": 174
        },
        "id": "rXdNALSIyi9C",
        "outputId": "c36c83d6-1db0-4905-d541-0cec4284b872"
      },
      "outputs": [
        {
          "name": "stdout",
          "output_type": "stream",
          "text": [
            "Downloading data from https://storage.googleapis.com/tensorflow/tf-keras-datasets/imdb_word_index.json\n",
            "1641221/1641221 [==============================] - 0s 0us/step\n"
          ]
        },
        {
          "data": {
            "application/vnd.google.colaboratory.intrinsic+json": {
              "type": "string"
            },
            "text/plain": [
              "\"<START> this film was just brilliant casting location scenery story direction everyone's really suited the part they played and you could just imagine being there robert redford's is an amazing actor and now the same being director norman's father came from the same scottish island as myself so i loved the fact there was a real connection with this film the witty remarks throughout the film were great it was just brilliant so much that i bought the film as soon as it was released for retail and would recommend it to everyone to watch and the fly fishing was amazing really cried at the end it was so sad and you know what they say if you cry at a film it must have been good and this definitely was also congratulations to the two little boy's that played the part's of norman and paul they were just brilliant children are often left out of the praising list i think because the stars that play them all grown up are such a big profile for the whole film but these children are amazing and should be praised for what they have done don't you think the whole story was so lovely because it was true and was someone's life after all that was shared with us all\""
            ]
          },
          "execution_count": 4,
          "metadata": {},
          "output_type": "execute_result"
        }
      ],
      "source": [
        "#As it clear, the text of reviews is integer-encoded, where each integer represents a specific word in the dictionary.\n",
        "#We can convert the integers back to words as the following\n",
        "\n",
        "INDEX_FROM = 3\n",
        "word_index = imdb.get_word_index()\n",
        "word_index = {key:(value+INDEX_FROM) for key,value in word_index.items()}\n",
        "word_index[\"<PAD>\"] = 0    # the padding token\n",
        "word_index[\"<START>\"] = 1  # the starting token\n",
        "word_index[\"<UNK>\"] = 2    # the unknown token\n",
        "reverse_word_index = {value:key for key, value in word_index.items()}\n",
        "\n",
        "def decode_review(text):\n",
        "    return ' '.join([reverse_word_index.get(i, '?') for i in text])\n",
        "\n",
        "decode_review(x_train[0])"
      ]
    },
    {
      "cell_type": "code",
      "execution_count": 5,
      "metadata": {
        "colab": {
          "base_uri": "https://localhost:8080/"
        },
        "id": "bq-l23B0ytRC",
        "outputId": "6e69ca6b-41c3-4bab-a811-30e5a961f602"
      },
      "outputs": [
        {
          "name": "stdout",
          "output_type": "stream",
          "text": [
            "20000 train sequences\n",
            "5000 val sequences\n",
            "25000 test sequences\n"
          ]
        }
      ],
      "source": [
        "#consider the top 5000 most common words. I will also consider 20% of the training set for validation purpose.\n",
        "vocab_size = 5000 \n",
        "(X_train, y_train), (X_test, y_test) = imdb.load_data(num_words= vocab_size)\n",
        "\n",
        "X_train, X_val = X_train[:-5000], X_train[-5000:]\n",
        "y_train, y_val = y_train[:-5000], y_train[-5000:]\n",
        "\n",
        "print(len(X_train), 'train sequences')\n",
        "print(len(X_val), 'val sequences')\n",
        "print(len(X_test), 'test sequences')"
      ]
    },
    {
      "cell_type": "code",
      "execution_count": 6,
      "metadata": {
        "colab": {
          "base_uri": "https://localhost:8080/",
          "height": 140
        },
        "id": "UBkpf5KCzFHh",
        "outputId": "ea9f49fb-353f-4d75-cdd6-eaf1a5ff3633"
      },
      "outputs": [
        {
          "data": {
            "application/vnd.google.colaboratory.intrinsic+json": {
              "type": "string"
            },
            "text/plain": [
              "\"<START> this film was just brilliant casting location scenery story direction everyone's really suited the part they played and you could just imagine being there robert <UNK> is an amazing actor and now the same being director <UNK> father came from the same scottish island as myself so i loved the fact there was a real connection with this film the witty remarks throughout the film were great it was just brilliant so much that i bought the film as soon as it was released for <UNK> and would recommend it to everyone to watch and the fly <UNK> was amazing really cried at the end it was so sad and you know what they say if you cry at a film it must have been good and this definitely was also <UNK> to the two little <UNK> that played the <UNK> of norman and paul they were just brilliant children are often left out of the <UNK> list i think because the stars that play them all grown up are such a big <UNK> for the whole film but these children are amazing and should be <UNK> for what they have done don't you think the whole story was so lovely because it was true and was someone's life after all that was <UNK> with us all\""
            ]
          },
          "execution_count": 6,
          "metadata": {},
          "output_type": "execute_result"
        }
      ],
      "source": [
        "decode_review(X_train[0])"
      ]
    },
    {
      "cell_type": "code",
      "execution_count": 7,
      "metadata": {
        "colab": {
          "base_uri": "https://localhost:8080/"
        },
        "id": "tefMDnsgzOqi",
        "outputId": "b752c8e0-00df-4342-fed0-0b829cbe92c9"
      },
      "outputs": [
        {
          "name": "stdout",
          "output_type": "stream",
          "text": [
            "X_train shape: (20000, 500)\n",
            "X_val shape: (5000, 500)\n",
            "X_test shape: (25000, 500)\n"
          ]
        }
      ],
      "source": [
        "#Movie reviews can be different lengths. We will use the pad_sequences function to standardize the lengths of the reviews\n",
        "\n",
        "maximum_sequence_length = 500 # maximum length of all review sequences\n",
        "\n",
        "X_train = pad_sequences(X_train, value= word_index[\"<PAD>\"], padding= 'post', maxlen= maximum_sequence_length)\n",
        "X_val = pad_sequences(X_val, value= word_index[\"<PAD>\"], padding= 'post', maxlen= maximum_sequence_length)\n",
        "X_test = pad_sequences(X_test, value= word_index[\"<PAD>\"], padding= 'post', maxlen= maximum_sequence_length)\n",
        "\n",
        "print('X_train shape:', X_train.shape) # (n_samples, n_timesteps) , first sample have 500 word\n",
        "print('X_val shape:', X_val.shape)\n",
        "print('X_test shape:', X_test.shape)"
      ]
    },
    {
      "cell_type": "code",
      "execution_count": 8,
      "metadata": {
        "colab": {
          "base_uri": "https://localhost:8080/"
        },
        "id": "3OZZTD2A0Blu",
        "outputId": "e227f6e7-41bb-4002-f490-904259edca61"
      },
      "outputs": [
        {
          "name": "stdout",
          "output_type": "stream",
          "text": [
            "[   1   14   22   16   43  530  973 1622 1385   65  458 4468   66 3941\n",
            "    4  173   36  256    5   25  100   43  838  112   50  670    2    9\n",
            "   35  480  284    5  150    4  172  112  167    2  336  385   39    4\n",
            "  172 4536 1111   17  546   38   13  447    4  192   50   16    6  147\n",
            " 2025   19   14   22    4 1920 4613  469    4   22   71   87   12   16\n",
            "   43  530   38   76   15   13 1247    4   22   17  515   17   12   16\n",
            "  626   18    2    5   62  386   12    8  316    8  106    5    4 2223\n",
            "    2   16  480   66 3785   33    4  130   12   16   38  619    5   25\n",
            "  124   51   36  135   48   25 1415   33    6   22   12  215   28   77\n",
            "   52    5   14  407   16   82    2    8    4  107  117    2   15  256\n",
            "    4    2    7 3766    5  723   36   71   43  530  476   26  400  317\n",
            "   46    7    4    2 1029   13  104   88    4  381   15  297   98   32\n",
            " 2071   56   26  141    6  194    2   18    4  226   22   21  134  476\n",
            "   26  480    5  144   30    2   18   51   36   28  224   92   25  104\n",
            "    4  226   65   16   38 1334   88   12   16  283    5   16 4472  113\n",
            "  103   32   15   16    2   19  178   32    0    0    0    0    0    0\n",
            "    0    0    0    0    0    0    0    0    0    0    0    0    0    0\n",
            "    0    0    0    0    0    0    0    0    0    0    0    0    0    0\n",
            "    0    0    0    0    0    0    0    0    0    0    0    0    0    0\n",
            "    0    0    0    0    0    0    0    0    0    0    0    0    0    0\n",
            "    0    0    0    0    0    0    0    0    0    0    0    0    0    0\n",
            "    0    0    0    0    0    0    0    0    0    0    0    0    0    0\n",
            "    0    0    0    0    0    0    0    0    0    0    0    0    0    0\n",
            "    0    0    0    0    0    0    0    0    0    0    0    0    0    0\n",
            "    0    0    0    0    0    0    0    0    0    0    0    0    0    0\n",
            "    0    0    0    0    0    0    0    0    0    0    0    0    0    0\n",
            "    0    0    0    0    0    0    0    0    0    0    0    0    0    0\n",
            "    0    0    0    0    0    0    0    0    0    0    0    0    0    0\n",
            "    0    0    0    0    0    0    0    0    0    0    0    0    0    0\n",
            "    0    0    0    0    0    0    0    0    0    0    0    0    0    0\n",
            "    0    0    0    0    0    0    0    0    0    0    0    0    0    0\n",
            "    0    0    0    0    0    0    0    0    0    0    0    0    0    0\n",
            "    0    0    0    0    0    0    0    0    0    0    0    0    0    0\n",
            "    0    0    0    0    0    0    0    0    0    0    0    0    0    0\n",
            "    0    0    0    0    0    0    0    0    0    0    0    0    0    0\n",
            "    0    0    0    0    0    0    0    0    0    0]\n"
          ]
        }
      ],
      "source": [
        "print(X_train[0])"
      ]
    },
    {
      "cell_type": "code",
      "execution_count": 9,
      "metadata": {
        "colab": {
          "base_uri": "https://localhost:8080/"
        },
        "id": "AAXHYfT10CSM",
        "outputId": "bf538791-0fdc-4457-ec85-f82936fb33a3"
      },
      "outputs": [
        {
          "name": "stderr",
          "output_type": "stream",
          "text": [
            "<ipython-input-9-c1145a24d7ea>:25: DeprecationWarning: KerasClassifier is deprecated, use Sci-Keras (https://github.com/adriangb/scikeras) instead. See https://www.adriangb.com/scikeras/stable/migration.html for help migrating.\n",
            "  model = KerasClassifier(build_fn= create_model)\n"
          ]
        }
      ],
      "source": [
        "embedding_dim = 16\n",
        "\n",
        "def create_model(filters = 64, kernel_size = 3, strides=1, units = 256, \n",
        "                 optimizer='adam', rate = 0.25, kernel_initializer ='glorot_uniform'):\n",
        "    model = Sequential()\n",
        "    # Embedding layer (500,16)\n",
        "    model.add(Embedding(vocab_size, embedding_dim, input_length= maximum_sequence_length))\n",
        "    # Convolutional Layer(s)\n",
        "    model.add(Dropout(rate))\n",
        "    model.add(Conv1D(filters = filters, kernel_size = kernel_size, strides= strides, \n",
        "                     padding='same', activation= 'relu'))\n",
        "    model.add(GlobalMaxPooling1D())\n",
        "    # Dense layer(s)\n",
        "    model.add(Dense(units = units, activation= 'relu', kernel_initializer= kernel_initializer))\n",
        "    model.add(Dropout(rate))\n",
        "    # Output layer\n",
        "    model.add(Dense(1, activation= 'sigmoid'))\n",
        "    \n",
        "    # Compile the model\n",
        "    model.compile(loss='binary_crossentropy',\n",
        "                  optimizer= optimizer,\n",
        "                  metrics=['accuracy'])\n",
        "    return model\n",
        "# Build the model\n",
        "model = KerasClassifier(build_fn= create_model)"
      ]
    },
    {
      "cell_type": "code",
      "execution_count": 10,
      "metadata": {
        "id": "r5SAk_hC0Hl-"
      },
      "outputs": [],
      "source": [
        "# Set the hyperparameters\n",
        "# i used this few params because i dont have colab pro to do all params\n",
        "filters = [64,128] \n",
        "kernel_size = [3,5] \n",
        "strides= [1]\n",
        "Dense_units = [128, 512]\n",
        "kernel_initializer = ['TruncatedNormal']\n",
        "rate_dropouts = [0.25] \n",
        "optimizers = ['adam','rmsprop'] \n",
        "epochs = [5]\n",
        "batches = [64]\n",
        "# ----------------------------------------------\n",
        "# Exhaustive Grid Search\n",
        "param_grid = dict(optimizer= optimizers, epochs= epochs, batch_size= batches,\n",
        "                  filters = filters, kernel_size = kernel_size, strides = strides, \n",
        "                  units = Dense_units, kernel_initializer= kernel_initializer, rate = rate_dropouts)"
      ]
    },
    {
      "cell_type": "code",
      "execution_count": 11,
      "metadata": {
        "colab": {
          "base_uri": "https://localhost:8080/"
        },
        "id": "1gFJs8jQ0vkj",
        "outputId": "d943507f-0c90-4e4f-cb88-ea4307f1e4de"
      },
      "outputs": [
        {
          "name": "stdout",
          "output_type": "stream",
          "text": [
            "{'batch_size': 64, 'epochs': 5, 'filters': 64, 'kernel_initializer': 'TruncatedNormal', 'kernel_size': 3, 'optimizer': 'adam', 'rate': 0.25, 'strides': 1, 'units': 128}\n",
            "Epoch 1/5\n",
            "313/313 [==============================] - 13s 37ms/step - loss: 0.5962 - accuracy: 0.6456 - val_loss: 0.4033 - val_accuracy: 0.8182\n",
            "Epoch 2/5\n",
            "313/313 [==============================] - 11s 35ms/step - loss: 0.3393 - accuracy: 0.8552 - val_loss: 0.3136 - val_accuracy: 0.8674\n",
            "Epoch 3/5\n",
            "313/313 [==============================] - 11s 35ms/step - loss: 0.2702 - accuracy: 0.8874 - val_loss: 0.2961 - val_accuracy: 0.8796\n",
            "Epoch 4/5\n",
            "313/313 [==============================] - 12s 38ms/step - loss: 0.2298 - accuracy: 0.9108 - val_loss: 0.2782 - val_accuracy: 0.8818\n",
            "Epoch 5/5\n",
            "313/313 [==============================] - 11s 35ms/step - loss: 0.1956 - accuracy: 0.9256 - val_loss: 0.2896 - val_accuracy: 0.8836\n",
            "+-+-+-+-+-+-+-+-+-+-+-+-+-+-+-+-+-+-+-+-+-+-+-+-+-+-+-+-+-+-+-+-+-+-+-+-+-+-+-+-+-+-+-+-+-+-+-+-+-+-\n",
            "{'batch_size': 64, 'epochs': 5, 'filters': 64, 'kernel_initializer': 'TruncatedNormal', 'kernel_size': 3, 'optimizer': 'adam', 'rate': 0.25, 'strides': 1, 'units': 512}\n",
            "Epoch 1/5\n",
            "313/313 [==============================] - 12s 36ms/step - loss: 0.5435 - accuracy: 0.6924 - val_loss: 0.3568 - val_accuracy: 0.8458\n",
            "Epoch 2/5\n",
            "313/313 [==============================] - 11s 36ms/step - loss: 0.3215 - accuracy: 0.8613 - val_loss: 0.3057 - val_accuracy: 0.8698\n",
            "Epoch 3/5\n",
            "313/313 [==============================] - 11s 36ms/step - loss: 0.2518 - accuracy: 0.8953 - val_loss: 0.2824 - val_accuracy: 0.8838\n",
            "Epoch 4/5\n",
            "313/313 [==============================] - 11s 36ms/step - loss: 0.2127 - accuracy: 0.9163 - val_loss: 0.2812 - val_accuracy: 0.8868\n",
            "Epoch 5/5\n",
            "313/313 [==============================] - 11s 36ms/step - loss: 0.1813 - accuracy: 0.9305 - val_loss: 0.2927 - val_accuracy: 0.8868\n",
            "Epoch 5: early stopping\n",
            "+-+-+-+-+-+-+-+-+-+-+-+-+-+-+-+-+-+-+-+-+-+-+-+-+-+-+-+-+-+-+-+-+-+-+-+-+-+-+-+-+-+-+-+-+-+-+-+-+-+-\n",
            "{'batch_size': 64, 'epochs': 5, 'filters': 64, 'kernel_initializer': 'TruncatedNormal', 'kernel_size': 3, 'optimizer': 'rmsprop', 'rate': 0.25, 'strides': 1, 'units': 128}\n",
            "Epoch 1/5\n",
            "313/313 [==============================] - 12s 35ms/step - loss: 0.6527 - accuracy: 0.5883 - val_loss: 0.5268 - val_accuracy: 0.7412\n",
            "Epoch 2/5\n",
            "313/313 [==============================] - 11s 35ms/step - loss: 0.4464 - accuracy: 0.7934 - val_loss: 0.3696 - val_accuracy: 0.8394\n",
            "Epoch 3/5\n",
            "313/313 [==============================] - 11s 35ms/step - loss: 0.3418 - accuracy: 0.8515 - val_loss: 0.3209 - val_accuracy: 0.8598\n",
            "Epoch 4/5\n",
            "313/313 [==============================] - 11s 35ms/step - loss: 0.2923 - accuracy: 0.8752 - val_loss: 0.2933 - val_accuracy: 0.8746\n",
            "Epoch 5/5\n",
            "313/313 [==============================] - 11s 35ms/step - loss: 0.2626 - accuracy: 0.8932 - val_loss: 0.2845 - val_accuracy: 0.8786\n",
            "+-+-+-+-+-+-+-+-+-+-+-+-+-+-+-+-+-+-+-+-+-+-+-+-+-+-+-+-+-+-+-+-+-+-+-+-+-+-+-+-+-+-+-+-+-+-+-+-+-+-\n",
            "{'batch_size': 64, 'epochs': 5, 'filters': 64, 'kernel_initializer': 'TruncatedNormal', 'kernel_size': 3, 'optimizer': 'rmsprop', 'rate': 0.25, 'strides': 1, 'units': 512}\n",
            "Epoch 1/5\n",
            "313/313 [==============================] - 12s 37ms/step - loss: 0.6156 - accuracy: 0.6368 - val_loss: 0.4715 - val_accuracy: 0.7746\n",
            "Epoch 2/5\n",
            "313/313 [==============================] - 11s 36ms/step - loss: 0.4011 - accuracy: 0.8187 - val_loss: 0.3229 - val_accuracy: 0.8640\n",
            "Epoch 3/5\n",
            "313/313 [==============================] - 11s 35ms/step - loss: 0.3138 - accuracy: 0.8680 - val_loss: 0.2865 - val_accuracy: 0.8798\n",
            "Epoch 4/5\n",
            "313/313 [==============================] - 11s 35ms/step - loss: 0.2762 - accuracy: 0.8826 - val_loss: 0.2798 - val_accuracy: 0.8866\n",
            "Epoch 5/5\n",
            "313/313 [==============================] - 11s 36ms/step - loss: 0.2500 - accuracy: 0.8983 - val_loss: 0.3019 - val_accuracy: 0.8730\n",
            "Epoch 5: early stopping\n",
            "+-+-+-+-+-+-+-+-+-+-+-+-+-+-+-+-+-+-+-+-+-+-+-+-+-+-+-+-+-+-+-+-+-+-+-+-+-+-+-+-+-+-+-+-+-+-+-+-+-+-\n",
            "{'batch_size': 64, 'epochs': 5, 'filters': 64, 'kernel_initializer': 'TruncatedNormal', 'kernel_size': 5, 'optimizer': 'adam', 'rate': 0.25, 'strides': 1, 'units': 128}\n",
            "Epoch 1/5\n",
            "313/313 [==============================] - 14s 43ms/step - loss: 0.5825 - accuracy: 0.6671 - val_loss: 0.3796 - val_accuracy: 0.8344\n",
            "Epoch 2/5\n",
            "313/313 [==============================] - 12s 40ms/step - loss: 0.3219 - accuracy: 0.8627 - val_loss: 0.2886 - val_accuracy: 0.8814\n",
            "Epoch 3/5\n",
            "313/313 [==============================] - 12s 40ms/step - loss: 0.2426 - accuracy: 0.9036 - val_loss: 0.2751 - val_accuracy: 0.8898\n",
            "Epoch 4/5\n",
            "313/313 [==============================] - 12s 40ms/step - loss: 0.2025 - accuracy: 0.9212 - val_loss: 0.2763 - val_accuracy: 0.8928\n",
            "Epoch 5/5\n",
            "313/313 [==============================] - 13s 42ms/step - loss: 0.1664 - accuracy: 0.9366 - val_loss: 0.2816 - val_accuracy: 0.8946\n",
            "+-+-+-+-+-+-+-+-+-+-+-+-+-+-+-+-+-+-+-+-+-+-+-+-+-+-+-+-+-+-+-+-+-+-+-+-+-+-+-+-+-+-+-+-+-+-+-+-+-+-\n",
            "{'batch_size': 64, 'epochs': 5, 'filters': 64, 'kernel_initializer': 'TruncatedNormal', 'kernel_size': 5, 'optimizer': 'adam', 'rate': 0.25, 'strides': 1, 'units': 512}\n",
            "Epoch 1/5\n",
            "313/313 [==============================] - 14s 41ms/step - loss: 0.5647 - accuracy: 0.6664 - val_loss: 0.3505 - val_accuracy: 0.8536\n",
            "Epoch 2/5\n",
            "313/313 [==============================] - 13s 40ms/step - loss: 0.3067 - accuracy: 0.8708 - val_loss: 0.2785 - val_accuracy: 0.8890\n",
            "Epoch 3/5\n",
            "313/313 [==============================] - 13s 40ms/step - loss: 0.2350 - accuracy: 0.9051 - val_loss: 0.2678 - val_accuracy: 0.8956\n",
            "Epoch 4/5\n",
            "313/313 [==============================] - 13s 40ms/step - loss: 0.1904 - accuracy: 0.9255 - val_loss: 0.2916 - val_accuracy: 0.8830\n",
            "Epoch 4: early stopping\n",
            "+-+-+-+-+-+-+-+-+-+-+-+-+-+-+-+-+-+-+-+-+-+-+-+-+-+-+-+-+-+-+-+-+-+-+-+-+-+-+-+-+-+-+-+-+-+-+-+-+-+-\n",
            "{'batch_size': 64, 'epochs': 5, 'filters': 64, 'kernel_initializer': 'TruncatedNormal', 'kernel_size': 5, 'optimizer': 'rmsprop', 'rate': 0.25, 'strides': 1, 'units': 128}\n",
            "Epoch 1/5\n",
            "313/313 [==============================] - 13s 41ms/step - loss: 0.6750 - accuracy: 0.5562 - val_loss: 0.5905 - val_accuracy: 0.6862\n",
            "Epoch 2/5\n",
            "313/313 [==============================] - 13s 40ms/step - loss: 0.4782 - accuracy: 0.7744 - val_loss: 0.3927 - val_accuracy: 0.8262\n",
            "Epoch 3/5\n",
            "313/313 [==============================] - 13s 43ms/step - loss: 0.3469 - accuracy: 0.8519 - val_loss: 0.3095 - val_accuracy: 0.8694\n",
            "Epoch 4/5\n",
            "313/313 [==============================] - 13s 40ms/step - loss: 0.2868 - accuracy: 0.8820 - val_loss: 0.3669 - val_accuracy: 0.8424\n",
            "Epoch 4: early stopping\n",
            "+-+-+-+-+-+-+-+-+-+-+-+-+-+-+-+-+-+-+-+-+-+-+-+-+-+-+-+-+-+-+-+-+-+-+-+-+-+-+-+-+-+-+-+-+-+-+-+-+-+-\n",
            "{'batch_size': 64, 'epochs': 5, 'filters': 64, 'kernel_initializer': 'TruncatedNormal', 'kernel_size': 5, 'optimizer': 'rmsprop', 'rate': 0.25, 'strides': 1, 'units': 512}\n",
            "Epoch 1/5\n",
            "313/313 [==============================] - 13s 41ms/step - loss: 0.6420 - accuracy: 0.6029 - val_loss: 0.4835 - val_accuracy: 0.7822\n",
            "Epoch 2/5\n",
            "313/313 [==============================] - 13s 41ms/step - loss: 0.3919 - accuracy: 0.8268 - val_loss: 0.3581 - val_accuracy: 0.8404\n",
            "Epoch 3/5\n",
            "313/313 [==============================] - 13s 41ms/step - loss: 0.2964 - accuracy: 0.8777 - val_loss: 0.2759 - val_accuracy: 0.8878\n",
            "Epoch 4/5\n",
            "313/313 [==============================] - 13s 41ms/step - loss: 0.2533 - accuracy: 0.8974 - val_loss: 0.2993 - val_accuracy: 0.8744\n",
            "Epoch 4: early stopping\n",
            "+-+-+-+-+-+-+-+-+-+-+-+-+-+-+-+-+-+-+-+-+-+-+-+-+-+-+-+-+-+-+-+-+-+-+-+-+-+-+-+-+-+-+-+-+-+-+-+-+-+-\n",
            "{'batch_size': 64, 'epochs': 5, 'filters': 128, 'kernel_initializer': 'TruncatedNormal', 'kernel_size': 3, 'optimizer': 'adam', 'rate': 0.25, 'strides': 1, 'units': 128}\n",
            "Epoch 1/5\n",
            "313/313 [==============================] - 18s 55ms/step - loss: 0.5583 - accuracy: 0.6875 - val_loss: 0.3668 - val_accuracy: 0.8430\n",
            "Epoch 2/5\n",
            "313/313 [==============================] - 16s 52ms/step - loss: 0.3224 - accuracy: 0.8640 - val_loss: 0.2943 - val_accuracy: 0.8816\n",
            "Epoch 3/5\n",
            "313/313 [==============================] - 19s 60ms/step - loss: 0.2545 - accuracy: 0.8977 - val_loss: 0.2781 - val_accuracy: 0.8822\n",
            "Epoch 4/5\n",
            "313/313 [==============================] - 16s 53ms/step - loss: 0.2133 - accuracy: 0.9158 - val_loss: 0.2775 - val_accuracy: 0.8850\n",
            "Epoch 5/5\n",
            "313/313 [==============================] - 16s 51ms/step - loss: 0.1809 - accuracy: 0.9313 - val_loss: 0.2853 - val_accuracy: 0.8852\n",
            "+-+-+-+-+-+-+-+-+-+-+-+-+-+-+-+-+-+-+-+-+-+-+-+-+-+-+-+-+-+-+-+-+-+-+-+-+-+-+-+-+-+-+-+-+-+-+-+-+-+-\n",
            "{'batch_size': 64, 'epochs': 5, 'filters': 128, 'kernel_initializer': 'TruncatedNormal', 'kernel_size': 3, 'optimizer': 'adam', 'rate': 0.25, 'strides': 1, 'units': 512}\n",
            "Epoch 1/5\n",
            "313/313 [==============================] - 18s 55ms/step - loss: 0.5348 - accuracy: 0.7035 - val_loss: 0.3667 - val_accuracy: 0.8366\n",
            "Epoch 2/5\n",
            "313/313 [==============================] - 17s 53ms/step - loss: 0.3182 - accuracy: 0.8658 - val_loss: 0.3049 - val_accuracy: 0.8708\n",
            "Epoch 3/5\n",
            "313/313 [==============================] - 17s 55ms/step - loss: 0.2479 - accuracy: 0.8996 - val_loss: 0.2792 - val_accuracy: 0.8830\n",
            "Epoch 4/5\n",
            "313/313 [==============================] - 16s 52ms/step - loss: 0.2040 - accuracy: 0.9198 - val_loss: 0.2932 - val_accuracy: 0.8842\n",
            "Epoch 5/5\n",
            "313/313 [==============================] - 17s 53ms/step - loss: 0.1745 - accuracy: 0.9319 - val_loss: 0.2887 - val_accuracy: 0.8842\n",
            "Epoch 5: early stopping\n",
            "+-+-+-+-+-+-+-+-+-+-+-+-+-+-+-+-+-+-+-+-+-+-+-+-+-+-+-+-+-+-+-+-+-+-+-+-+-+-+-+-+-+-+-+-+-+-+-+-+-+-\n",
            "{'batch_size': 64, 'epochs': 5, 'filters': 128, 'kernel_initializer': 'TruncatedNormal', 'kernel_size': 3, 'optimizer': 'rmsprop', 'rate': 0.25, 'strides': 1, 'units': 128}\n",
            "Epoch 1/5\n",
            "313/313 [==============================] - 20s 62ms/step - loss: 0.6634 - accuracy: 0.5773 - val_loss: 0.5316 - val_accuracy: 0.7450\n",
            "Epoch 2/5\n",
            "313/313 [==============================] - 17s 55ms/step - loss: 0.4432 - accuracy: 0.8001 - val_loss: 0.3681 - val_accuracy: 0.8418\n",
            "Epoch 3/5\n",
            "313/313 [==============================] - 26s 83ms/step - loss: 0.3342 - accuracy: 0.8558 - val_loss: 0.3120 - val_accuracy: 0.8712\n",
            "Epoch 4/5\n",
            "313/313 [==============================] - 17s 55ms/step - loss: 0.2826 - accuracy: 0.8826 - val_loss: 0.2759 - val_accuracy: 0.8848\n",
            "Epoch 5/5\n",
            "313/313 [==============================] - 18s 57ms/step - loss: 0.2589 - accuracy: 0.8953 - val_loss: 0.2762 - val_accuracy: 0.8858\n",
            "+-+-+-+-+-+-+-+-+-+-+-+-+-+-+-+-+-+-+-+-+-+-+-+-+-+-+-+-+-+-+-+-+-+-+-+-+-+-+-+-+-+-+-+-+-+-+-+-+-+-\n",
            "{'batch_size': 64, 'epochs': 5, 'filters': 128, 'kernel_initializer': 'TruncatedNormal', 'kernel_size': 3, 'optimizer': 'rmsprop', 'rate': 0.25, 'strides': 1, 'units': 512}\n",
            "Epoch 1/5\n",
            "313/313 [==============================] - 18s 54ms/step - loss: 0.5961 - accuracy: 0.6543 - val_loss: 0.4560 - val_accuracy: 0.7962\n",
            "Epoch 2/5\n",
            "313/313 [==============================] - 18s 58ms/step - loss: 0.3871 - accuracy: 0.8292 - val_loss: 0.3276 - val_accuracy: 0.8596\n",
            "Epoch 3/5\n",
            "313/313 [==============================] - 16s 53ms/step - loss: 0.3034 - accuracy: 0.8738 - val_loss: 0.3966 - val_accuracy: 0.8224\n",
            "Epoch 3: early stopping\n",
            "+-+-+-+-+-+-+-+-+-+-+-+-+-+-+-+-+-+-+-+-+-+-+-+-+-+-+-+-+-+-+-+-+-+-+-+-+-+-+-+-+-+-+-+-+-+-+-+-+-+-\n",
            "{'batch_size': 64, 'epochs': 5, 'filters': 128, 'kernel_initializer': 'TruncatedNormal', 'kernel_size': 5, 'optimizer': 'adam', 'rate': 0.25, 'strides': 1, 'units': 128}\n",
            "Epoch 1/5\n",
            "313/313 [==============================] - 22s 67ms/step - loss: 0.5552 - accuracy: 0.6820 - val_loss: 0.3548 - val_accuracy: 0.8416\n",
            "Epoch 2/5\n",
            "313/313 [==============================] - 21s 66ms/step - loss: 0.3023 - accuracy: 0.8772 - val_loss: 0.2775 - val_accuracy: 0.8850\n",
            "Epoch 3/5\n",
            "313/313 [==============================] - 20s 65ms/step - loss: 0.2311 - accuracy: 0.9088 - val_loss: 0.2679 - val_accuracy: 0.8932\n",
            "Epoch 4/5\n",
            "313/313 [==============================] - 21s 67ms/step - loss: 0.1900 - accuracy: 0.9273 - val_loss: 0.2671 - val_accuracy: 0.8958\n",
            "Epoch 5/5\n",
            "313/313 [==============================] - 21s 68ms/step - loss: 0.1603 - accuracy: 0.9386 - val_loss: 0.2816 - val_accuracy: 0.8932\n",
            "Epoch 5: early stopping\n",
            "+-+-+-+-+-+-+-+-+-+-+-+-+-+-+-+-+-+-+-+-+-+-+-+-+-+-+-+-+-+-+-+-+-+-+-+-+-+-+-+-+-+-+-+-+-+-+-+-+-+-\n",
            "{'batch_size': 64, 'epochs': 5, 'filters': 128, 'kernel_initializer': 'TruncatedNormal', 'kernel_size': 5, 'optimizer': 'adam', 'rate': 0.25, 'strides': 1, 'units': 512}\n",
            "Epoch 1/5\n",
            "313/313 [==============================] - 25s 78ms/step - loss: 0.5323 - accuracy: 0.6977 - val_loss: 0.3489 - val_accuracy: 0.8420\n",
            "Epoch 2/5\n",
            "313/313 [==============================] - 20s 65ms/step - loss: 0.2949 - accuracy: 0.8769 - val_loss: 0.2782 - val_accuracy: 0.8886\n",
            "Epoch 3/5\n",
            "313/313 [==============================] - 21s 68ms/step - loss: 0.2230 - accuracy: 0.9107 - val_loss: 0.2698 - val_accuracy: 0.8890\n",
            "Epoch 4/5\n",
            "313/313 [==============================] - 21s 68ms/step - loss: 0.1865 - accuracy: 0.9265 - val_loss: 0.2868 - val_accuracy: 0.8882\n",
            "Epoch 4: early stopping\n",
            "+-+-+-+-+-+-+-+-+-+-+-+-+-+-+-+-+-+-+-+-+-+-+-+-+-+-+-+-+-+-+-+-+-+-+-+-+-+-+-+-+-+-+-+-+-+-+-+-+-+-\n",
            "{'batch_size': 64, 'epochs': 5, 'filters': 128, 'kernel_initializer': 'TruncatedNormal', 'kernel_size': 5, 'optimizer': 'rmsprop', 'rate': 0.25, 'strides': 1, 'units': 128}\n",
            "Epoch 1/5\n",
            "313/313 [==============================] - 22s 69ms/step - loss: 0.6654 - accuracy: 0.5683 - val_loss: 0.5621 - val_accuracy: 0.7186\n",
            "Epoch 2/5\n",
            "313/313 [==============================] - 20s 65ms/step - loss: 0.4481 - accuracy: 0.7957 - val_loss: 0.3649 - val_accuracy: 0.8398\n",
            "Epoch 3/5\n",
            "313/313 [==============================] - 21s 68ms/step - loss: 0.3262 - accuracy: 0.8615 - val_loss: 0.2999 - val_accuracy: 0.8764\n",
            "Epoch 4/5\n",
            "313/313 [==============================] - 21s 68ms/step - loss: 0.2729 - accuracy: 0.8905 - val_loss: 0.2787 - val_accuracy: 0.8872\n",
            "Epoch 5/5\n",
            "313/313 [==============================] - 21s 68ms/step - loss: 0.2404 - accuracy: 0.9045 - val_loss: 0.2619 - val_accuracy: 0.8972\n",
            "+-+-+-+-+-+-+-+-+-+-+-+-+-+-+-+-+-+-+-+-+-+-+-+-+-+-+-+-+-+-+-+-+-+-+-+-+-+-+-+-+-+-+-+-+-+-+-+-+-+-\n",
            "{'batch_size': 64, 'epochs': 5, 'filters': 128, 'kernel_initializer': 'TruncatedNormal', 'kernel_size': 5, 'optimizer': 'rmsprop', 'rate': 0.25, 'strides': 1, 'units': 512}\n",
            "Epoch 1/5\n",
            "313/313 [==============================] - 22s 69ms/step - loss: 0.6412 - accuracy: 0.5987 - val_loss: 0.4772 - val_accuracy: 0.7876\n",
            "Epoch 2/5\n",
            "313/313 [==============================] - 22s 71ms/step - loss: 0.3904 - accuracy: 0.8283 - val_loss: 0.3292 - val_accuracy: 0.8626\n",
            "Epoch 3/5\n",
            "313/313 [==============================] - 21s 67ms/step - loss: 0.2970 - accuracy: 0.8748 - val_loss: 0.3005 - val_accuracy: 0.8738\n",
            "Epoch 4/5\n",
            "313/313 [==============================] - 21s 68ms/step - loss: 0.2552 - accuracy: 0.8960 - val_loss: 0.2606 - val_accuracy: 0.8980\n",
            "Epoch 5/5\n",
            "313/313 [==============================] - 21s 68ms/step - loss: 0.2244 - accuracy: 0.9116 - val_loss: 0.2517 - val_accuracy: 0.9028\n",
            "+-+-+-+-+-+-+-+-+-+-+-+-+-+-+-+-+-+-+-+-+-+-+-+-+-+-+-+-+-+-+-+-+-+-+-+-+-+-+-+-+-+-+-+-+-+-+-+-+-+-\n"
          ]
        }
      ],
      "source": [
        "grid = ParameterGrid(param_grid)\n",
        "param_sets = list(grid)\n",
        "\n",
        "param_scores = []\n",
        "for params in grid:\n",
        "\n",
        "    print(params)\n",
        "    model.set_params(**params)\n",
        "\n",
        "    earlystopper = EarlyStopping(monitor='val_accuracy', patience= 0, verbose=1)\n",
        "    \n",
        "    history = model.fit(X_train, y_train,\n",
        "                        shuffle= True,\n",
        "                        validation_data=(X_val, y_val),\n",
        "                        callbacks= [earlystopper])\n",
        "\n",
        "    param_score = history.history['val_accuracy']\n",
        "    param_scores.append(param_score[-1])\n",
        "    print('+-'*50) "
      ]
    },
    {
      "cell_type": "code",
      "execution_count": 12,
      "metadata": {
        "colab": {
          "base_uri": "https://localhost:8080/"
        },
        "id": "ByeLvvAg0wXK",
        "outputId": "48539a3b-62ee-4cf6-df04-93e1a0700b2c"
      },
      "outputs": [
        {
          "name": "stdout",
          "output_type": "stream",
          "text": [
            "param_scores: [0.8835999965667725, 0.8867999911308289, 0.878600001335144, 0.8730000257492065, 0.894599974155426, 0.8830000162124634, 0.8424000144004822, 0.8744000196456909, 0.885200023651123, 0.8841999769210815, 0.8858000040054321, 0.8223999738693237, 0.8931999802589417, 0.8881999850273132, 0.8971999883651733, 0.9028000235557556]\n",
            "best score: 0.9028000235557556\n",
            "best parameter set {'batch_size': 64, 'epochs': 5, 'filters': 128, 'kernel_initializer': 'TruncatedNormal', 'kernel_size': 5, 'optimizer': 'rmsprop', 'rate': 0.25, 'strides': 1, 'units': 512}\n"
          ]
        }
      ],
      "source": [
        "# Choose best parameters\n",
        "p = np.argmax(np.array(param_scores))\n",
        "print('param_scores:', param_scores)\n",
        "print(\"best score:\", param_scores[p])\n",
        "best_params = param_sets[p]\n",
        "print(\"best parameter set\", best_params)\n"
      ]
    },
    {
      "cell_type": "code",
      "execution_count": 13,
      "metadata": {
        "colab": {
          "base_uri": "https://localhost:8080/"
        },
        "id": "_WtE2vQN01sL",
        "outputId": "8b309f6e-e08c-4ad0-d039-0fecb8efa09b"
      },
      "outputs": [
        {
          "name": "stdout",
          "output_type": "stream",
          "text": [
            "Epoch 1/5\n",
            "313/313 [==============================] - 23s 70ms/step - loss: 0.6126 - accuracy: 0.6377 - val_loss: 0.4458 - val_accuracy: 0.7986\n",
            "Epoch 2/5\n",
            "313/313 [==============================] - 21s 67ms/step - loss: 0.3748 - accuracy: 0.8344 - val_loss: 0.3289 - val_accuracy: 0.8604\n",
            "Epoch 3/5\n",
            "313/313 [==============================] - 20s 65ms/step - loss: 0.2890 - accuracy: 0.8814 - val_loss: 0.2851 - val_accuracy: 0.8802\n",
            "Epoch 4/5\n",
            "313/313 [==============================] - 21s 68ms/step - loss: 0.2500 - accuracy: 0.8992 - val_loss: 0.2657 - val_accuracy: 0.8938\n",
            "Epoch 5/5\n",
            "313/313 [==============================] - 21s 68ms/step - loss: 0.2274 - accuracy: 0.9098 - val_loss: 0.2707 - val_accuracy: 0.8926\n"
          ]
        }
      ],
      "source": [
        "model.set_params(**best_params)\n",
        "history = model.fit(X_train, y_train, epochs=5,validation_data=(X_val, y_val))"
      ]
    },
    {
      "cell_type": "code",
      "execution_count": 14,
      "metadata": {
        "colab": {
          "base_uri": "https://localhost:8080/"
        },
        "id": "rQUtiWQU06mK",
        "outputId": "09663c39-dc5f-425a-a14d-1a1c9e2a1042"
      },
      "outputs": [
        {
          "name": "stdout",
          "output_type": "stream",
          "text": [
            "782/782 [==============================] - 6s 8ms/step\n",
            "Test accuracy = 88.736000%\n"
          ]
        }
      ],
      "source": [
        "from sklearn.metrics import accuracy_score\n",
        "print(\"Test accuracy = %f%%\" % (accuracy_score(y_test, model.predict(X_test))*100))"
      ]
    },
    {
      "cell_type": "code",
      "execution_count": 15,
      "metadata": {
        "colab": {
          "base_uri": "https://localhost:8080/",
          "height": 927
        },
        "id": "IUzcOtw65QK4",
        "outputId": "cfd93681-4a9d-4080-9c04-78643ee05e78"
      },
      "outputs": [
        {
          "data": {
            "image/png": "[encoded data removed]",
            "text/plain": [
              "<Figure size 640x480 with 1 Axes>"
            ]
          },
          "metadata": {},
          "output_type": "display_data"
        },
        {
          "data": {
            "image/png": "[encoded data removed]",
            "text/plain": [
              "<Figure size 640x480 with 1 Axes>"
            ]
          },
          "metadata": {},
          "output_type": "display_data"
        }
      ],
      "source": [
        "import matplotlib.pyplot as plt\n",
        "# summarize history for accuracy\n",
        "plt.plot(history.history['accuracy'])\n",
        "plt.plot(history.history['val_accuracy'])\n",
        "plt.title('model accuracy')\n",
        "plt.ylabel('accuracy')\n",
        "plt.xlabel('epoch')\n",
        "plt.legend(['train', 'test'], loc='upper left')\n",
        "plt.show()\n",
        "# summarize history for loss\n",
        "plt.plot(history.history['loss'])\n",
        "plt.plot(history.history['val_loss'])\n",
        "plt.title('model loss')\n",
        "plt.ylabel('loss')\n",
        "plt.xlabel('epoch')\n",
        "plt.legend(['train', 'test'], loc='upper left')\n",
        "plt.show()"
      ]
    },
    {
      "cell_type": "code",
      "execution_count": 16,
      "metadata": {
        "colab": {
          "base_uri": "https://localhost:8080/",
          "height": 472
        },
        "id": "nGH3_kIFAxX5",
        "outputId": "c6928b6d-61c5-4ad6-d23f-58f21cdf4c1c"
      },
      "outputs": [
        {
          "data": {
            "image/png": "[encoded data removed]",
            "text/plain": [
              "<Figure size 640x480 with 1 Axes>"
            ]
          },
          "metadata": {},
          "output_type": "display_data"
        }
      ],
      "source": [
        "seq_lengths = [len(seq) for seq in x_train]\n",
        "\n",
        "# Create a histogram of the sequence lengths\n",
        "plt.hist(seq_lengths, bins=50)\n",
        "plt.title(\"Histogram of sequence lengths\")\n",
        "plt.xlabel(\"Length\")\n",
        "plt.ylabel(\"Frequency\")\n",
        "plt.show()"
      ]
    }
  ],
  "metadata": {
    "colab": {
      "provenance": []
    },
    "kernelspec": {
      "display_name": "Python 3",
      "name": "python3"
    },
    "language_info": {
      "name": "python"
    }
  },
  "nbformat": 4,
  "nbformat_minor": 0
}
